{
 "cells": [
  {
   "attachments": {},
   "cell_type": "markdown",
   "metadata": {},
   "source": [
    "### 数据集"
   ]
  },
  {
   "cell_type": "code",
   "execution_count": 1,
   "metadata": {},
   "outputs": [],
   "source": [
    "import os\n",
    "import torch\n",
    "import torchvision\n",
    "import torchvision.transforms as transforms\n",
    "from torch.utils import data\n",
    "from torch import nn\n",
    "from torch.utils.data import Subset # for sub dataset\n",
    "from geo import get_classified_dataset, get_dataset_geo_feature\n",
    "from app_utils import dataset_compress\n",
    "\n",
    "import utils\n",
    "import network\n"
   ]
  },
  {
   "cell_type": "code",
   "execution_count": 2,
   "metadata": {},
   "outputs": [
    {
     "name": "stdout",
     "output_type": "stream",
     "text": [
      "/home/hhw/geo/hhw_code/../dataset\n",
      "2.0.1+cu117\n"
     ]
    }
   ],
   "source": [
    "cwd = os.getcwd()\n",
    "dataset_dir = os.path.join(cwd, '..', 'dataset')\n",
    "print(dataset_dir)\n",
    "print(torch.__version__)"
   ]
  },
  {
   "cell_type": "code",
   "execution_count": 3,
   "metadata": {},
   "outputs": [
    {
     "data": {
      "text/plain": [
       "'NVIDIA GeForce RTX 3050 Laptop GPU'"
      ]
     },
     "execution_count": 3,
     "metadata": {},
     "output_type": "execute_result"
    }
   ],
   "source": [
    "# test gpu\n",
    "num_gpus = torch.cuda.device_count()\n",
    "current_gpu_index = torch.cuda.current_device()\n",
    "gpu_name = torch.cuda.get_device_name(current_gpu_index)\n",
    "gpu_name"
   ]
  },
  {
   "attachments": {},
   "cell_type": "markdown",
   "metadata": {},
   "source": [
    "#### 加载数据集"
   ]
  },
  {
   "cell_type": "code",
   "execution_count": 4,
   "metadata": {},
   "outputs": [],
   "source": [
    "# def flatten_transform(image):\n",
    "#     return image.view(-1)\n",
    "transform1 = transforms.Compose([\n",
    "    transforms.ToTensor(),\n",
    "    lambda image: image.reshape(-1)\n",
    "])\n",
    "\n",
    "dataset_name = 'mnist'\n",
    "\n",
    "mnist_trainset = torchvision.datasets.MNIST(\n",
    "    root=dataset_dir, train = True, download = False, transform = transform1)\n",
    "\n",
    "mnist_testset = torchvision.datasets.MNIST(\n",
    "    root = dataset_dir, train = False, download = True, transform = transform1)\n"
   ]
  },
  {
   "attachments": {},
   "cell_type": "markdown",
   "metadata": {},
   "source": [
    "#### 截取部分数据做测试"
   ]
  },
  {
   "cell_type": "code",
   "execution_count": 5,
   "metadata": {},
   "outputs": [],
   "source": [
    "train_size = 1000\n",
    "test_size = 10000\n",
    "k = 8"
   ]
  },
  {
   "cell_type": "code",
   "execution_count": 6,
   "metadata": {},
   "outputs": [],
   "source": [
    "mnist_trainset = Subset(mnist_trainset, range(train_size))\n",
    "mnist_testset = Subset(mnist_testset, range(test_size))"
   ]
  },
  {
   "cell_type": "code",
   "execution_count": 7,
   "metadata": {},
   "outputs": [
    {
     "data": {
      "text/plain": [
       "60000"
      ]
     },
     "execution_count": 7,
     "metadata": {},
     "output_type": "execute_result"
    }
   ],
   "source": [
    "len(mnist_trainset.dataset)\n",
    "# len(classified_dataset[0])"
   ]
  },
  {
   "cell_type": "code",
   "execution_count": 8,
   "metadata": {},
   "outputs": [],
   "source": [
    "# 将数据分类存放\n",
    "classified_dataset = get_classified_dataset(mnist_trainset)"
   ]
  },
  {
   "cell_type": "code",
   "execution_count": 9,
   "metadata": {},
   "outputs": [
    {
     "ename": "KeyboardInterrupt",
     "evalue": "",
     "output_type": "error",
     "traceback": [
      "\u001b[0;31m---------------------------------------------------------------------------\u001b[0m",
      "\u001b[0;31mKeyboardInterrupt\u001b[0m                         Traceback (most recent call last)",
      "Cell \u001b[0;32mIn[9], line 2\u001b[0m\n\u001b[1;32m      1\u001b[0m \u001b[39m# 获取训练集 几何特征\u001b[39;00m\n\u001b[0;32m----> 2\u001b[0m each_class_feature, egr_scope, uhop_scope \u001b[39m=\u001b[39m get_dataset_geo_feature(classified_dataset, k\u001b[39m=\u001b[39mk)\n",
      "File \u001b[0;32m~/geo/hhw_code/geo.py:304\u001b[0m, in \u001b[0;36mget_dataset_geo_feature\u001b[0;34m(classified_dataset, k)\u001b[0m\n\u001b[1;32m    297\u001b[0m \u001b[39mfor\u001b[39;00m label \u001b[39min\u001b[39;00m classified_dataset\u001b[39m.\u001b[39mkeys():\n\u001b[1;32m    298\u001b[0m     \u001b[39m# print(f\"lable: {label}, size: {classified_dataset[label].shape}\")\u001b[39;00m\n\u001b[1;32m    299\u001b[0m     process_pool\u001b[39m.\u001b[39mapply_async(get_class_geo_feature,  \n\u001b[1;32m    300\u001b[0m                              args\u001b[39m=\u001b[39m(label, \n\u001b[1;32m    301\u001b[0m                                    classified_dataset[label], \n\u001b[1;32m    302\u001b[0m                                    k, \n\u001b[1;32m    303\u001b[0m                                    each_class_feature_shared))\n\u001b[0;32m--> 304\u001b[0m process_pool\u001b[39m.\u001b[39mclose()\n\u001b[1;32m    305\u001b[0m process_pool\u001b[39m.\u001b[39mjoin()\n\u001b[1;32m    306\u001b[0m \u001b[39m# print(each_class_feature_shared.keys())\u001b[39;00m\n",
      "File \u001b[0;32m~/miniconda3/envs/geo/lib/python3.11/multiprocessing/pool.py:665\u001b[0m, in \u001b[0;36mPool.join\u001b[0;34m(self)\u001b[0m\n\u001b[1;32m    663\u001b[0m \u001b[39melif\u001b[39;00m \u001b[39mself\u001b[39m\u001b[39m.\u001b[39m_state \u001b[39mnot\u001b[39;00m \u001b[39min\u001b[39;00m (CLOSE, TERMINATE):\n\u001b[1;32m    664\u001b[0m     \u001b[39mraise\u001b[39;00m \u001b[39mValueError\u001b[39;00m(\u001b[39m\"\u001b[39m\u001b[39mIn unknown state\u001b[39m\u001b[39m\"\u001b[39m)\n\u001b[0;32m--> 665\u001b[0m \u001b[39mself\u001b[39m\u001b[39m.\u001b[39m_worker_handler\u001b[39m.\u001b[39mjoin()\n\u001b[1;32m    666\u001b[0m \u001b[39mself\u001b[39m\u001b[39m.\u001b[39m_task_handler\u001b[39m.\u001b[39mjoin()\n\u001b[1;32m    667\u001b[0m \u001b[39mself\u001b[39m\u001b[39m.\u001b[39m_result_handler\u001b[39m.\u001b[39mjoin()\n",
      "File \u001b[0;32m~/miniconda3/envs/geo/lib/python3.11/threading.py:1112\u001b[0m, in \u001b[0;36mThread.join\u001b[0;34m(self, timeout)\u001b[0m\n\u001b[1;32m   1109\u001b[0m     \u001b[39mraise\u001b[39;00m \u001b[39mRuntimeError\u001b[39;00m(\u001b[39m\"\u001b[39m\u001b[39mcannot join current thread\u001b[39m\u001b[39m\"\u001b[39m)\n\u001b[1;32m   1111\u001b[0m \u001b[39mif\u001b[39;00m timeout \u001b[39mis\u001b[39;00m \u001b[39mNone\u001b[39;00m:\n\u001b[0;32m-> 1112\u001b[0m     \u001b[39mself\u001b[39m\u001b[39m.\u001b[39m_wait_for_tstate_lock()\n\u001b[1;32m   1113\u001b[0m \u001b[39melse\u001b[39;00m:\n\u001b[1;32m   1114\u001b[0m     \u001b[39m# the behavior of a negative timeout isn't documented, but\u001b[39;00m\n\u001b[1;32m   1115\u001b[0m     \u001b[39m# historically .join(timeout=x) for x<0 has acted as if timeout=0\u001b[39;00m\n\u001b[1;32m   1116\u001b[0m     \u001b[39mself\u001b[39m\u001b[39m.\u001b[39m_wait_for_tstate_lock(timeout\u001b[39m=\u001b[39m\u001b[39mmax\u001b[39m(timeout, \u001b[39m0\u001b[39m))\n",
      "File \u001b[0;32m~/miniconda3/envs/geo/lib/python3.11/threading.py:1132\u001b[0m, in \u001b[0;36mThread._wait_for_tstate_lock\u001b[0;34m(self, block, timeout)\u001b[0m\n\u001b[1;32m   1129\u001b[0m     \u001b[39mreturn\u001b[39;00m\n\u001b[1;32m   1131\u001b[0m \u001b[39mtry\u001b[39;00m:\n\u001b[0;32m-> 1132\u001b[0m     \u001b[39mif\u001b[39;00m lock\u001b[39m.\u001b[39macquire(block, timeout):\n\u001b[1;32m   1133\u001b[0m         lock\u001b[39m.\u001b[39mrelease()\n\u001b[1;32m   1134\u001b[0m         \u001b[39mself\u001b[39m\u001b[39m.\u001b[39m_stop()\n",
      "\u001b[0;31mKeyboardInterrupt\u001b[0m: "
     ]
    }
   ],
   "source": [
    "# 获取训练集 几何特征\n",
    "each_class_feature, egr_scope, uhop_scope = get_dataset_geo_feature(classified_dataset, k=k)\n"
   ]
  },
  {
   "cell_type": "code",
   "execution_count": 21,
   "metadata": {},
   "outputs": [],
   "source": [
    "each_class_feature = dict(each_class_feature)"
   ]
  },
  {
   "cell_type": "code",
   "execution_count": 22,
   "metadata": {},
   "outputs": [
    {
     "data": {
      "text/plain": [
       "(dict, numpy.ndarray, numpy.ndarray)"
      ]
     },
     "execution_count": 22,
     "metadata": {},
     "output_type": "execute_result"
    }
   ],
   "source": [
    "type(each_class_feature), type(egr_scope), type(uhop_scope)"
   ]
  },
  {
   "cell_type": "code",
   "execution_count": 23,
   "metadata": {},
   "outputs": [
    {
     "data": {
      "text/plain": [
       "Dataset MNIST\n",
       "    Number of datapoints: 60000\n",
       "    Root location: /home/hhw/geo/hhw_code/../dataset\n",
       "    Split: Train\n",
       "    StandardTransform\n",
       "Transform: Compose(\n",
       "               ToTensor()\n",
       "               <function <lambda> at 0x7f886e6840e0>\n",
       "           )"
      ]
     },
     "execution_count": 23,
     "metadata": {},
     "output_type": "execute_result"
    }
   ],
   "source": [
    "mnist_trainset.dataset"
   ]
  },
  {
   "cell_type": "code",
   "execution_count": 29,
   "metadata": {},
   "outputs": [],
   "source": [
    "# save to file\n",
    "dataset_name = 'mnist'\n",
    "\n",
    "import pickle\n",
    "results_dir = os.path.join(cwd, 'results')\n",
    "if not os.path.exists(results_dir):\n",
    "    os.makedirs(results_dir)\n",
    "geo_feature_path = os.path.join(results_dir, f'geo_{dataset_name}_trsz{train_size}_tesz{test_size}_k{k}.pkl')\n",
    "\n",
    "with open(geo_feature_path, 'wb') as f:\n",
    "    pickle.dump(each_class_feature, f)\n",
    "    pickle.dump(egr_scope, f)\n",
    "    pickle.dump(uhop_scope, f)"
   ]
  },
  {
   "cell_type": "code",
   "execution_count": 30,
   "metadata": {},
   "outputs": [],
   "source": [
    "# read from file\n",
    "with open(geo_feature_path, 'rb') as f:\n",
    "    each_class_feature = pickle.load(f)\n",
    "    egr_scope = pickle.load(f)\n",
    "    uhop_scope = pickle.load(f)"
   ]
  },
  {
   "cell_type": "code",
   "execution_count": 40,
   "metadata": {},
   "outputs": [
    {
     "name": "stdout",
     "output_type": "stream",
     "text": [
      "path_avg_egr\n",
      "<class 'numpy.ndarray'>, (479, 479)\n",
      "\n",
      "path_dict\n",
      "<class 'dict'>, 114481\n",
      "\n",
      "geodesic_dist\n",
      "<class 'numpy.ndarray'>, (479, 479)\n",
      "\n",
      "bone_path_index\n",
      "<class 'numpy.ndarray'>, (479, 479)\n",
      "\n",
      "bone_weight\n",
      "<class 'numpy.ndarray'>, (479,)\n",
      "\n",
      "class_ave_egr\n",
      "<class 'numpy.ndarray'>, (2,)\n",
      "\n",
      "class_uhop\n",
      "<class 'numpy.ndarray'>, (2,)\n",
      "\n"
     ]
    }
   ],
   "source": [
    "for key in each_class_feature[0].keys():\n",
    "    if key == 'label':\n",
    "        continue\n",
    "    print(key)\n",
    "    print(type(each_class_feature[0][key]), end=', ')\n",
    "    try:\n",
    "        print(each_class_feature[0][key].shape)\n",
    "    except:\n",
    "        print(len(each_class_feature[0][key]))\n",
    "    print()"
   ]
  },
  {
   "attachments": {},
   "cell_type": "markdown",
   "metadata": {},
   "source": [
    "#### 数据压缩/增强"
   ]
  },
  {
   "cell_type": "code",
   "execution_count": 11,
   "metadata": {},
   "outputs": [],
   "source": [
    "# 获取 egr, uhop 阈值\n",
    "egr_threshold = (egr_scope[0] + egr_scope[1]) / 2.0\n",
    "uhop_threshold = (uhop_scope[0] + uhop_scope[1]) / 2.0\n",
    "\n",
    "rate = 0.1"
   ]
  },
  {
   "cell_type": "code",
   "execution_count": 12,
   "metadata": {},
   "outputs": [
    {
     "name": "stdout",
     "output_type": "stream",
     "text": [
      "dataset_compress, label: 5, shape: torch.Size([434, 784])\n",
      "dataset_compress, label: 0, shape: torch.Size([479, 784])\n",
      "dataset_compress, label: 4, shape: torch.Size([535, 784])\n",
      "dataset_compress, label: 1, shape: torch.Size([563, 784])\n",
      "dataset_compress, label: 9, shape: torch.Size([495, 784])\n",
      "dataset_compress, label: 2, shape: torch.Size([488, 784])\n",
      "dataset_compress, label: 3, shape: torch.Size([493, 784])\n",
      "dataset_compress, label: 6, shape: torch.Size([501, 784])\n",
      "dataset_compress, label: 7, shape: torch.Size([550, 784])\n",
      "dataset_compress, label: 8, shape: torch.Size([462, 784])\n"
     ]
    }
   ],
   "source": [
    "s_res_dataset, s_removed_dataset = dataset_compress(classified_dataset = classified_dataset,\n",
    "                                                    each_class_feature = each_class_feature,\n",
    "                                                    rate = rate, \n",
    "                                                    egr_threshold = egr_threshold, \n",
    "                                                    uhop_threshold = uhop_threshold)"
   ]
  },
  {
   "attachments": {},
   "cell_type": "markdown",
   "metadata": {},
   "source": [
    "#### 测试数据压缩/增强的效果"
   ]
  },
  {
   "cell_type": "code",
   "execution_count": 13,
   "metadata": {},
   "outputs": [],
   "source": [
    "# ToDo\n",
    "res_data_X = torch.cat(list(s_res_dataset.values()), dim=0)\n",
    "res_data_y = torch.cat([torch.ones(len(s_res_dataset[label]), dtype=torch.long) * label for label in s_res_dataset.keys()], dim=0)\n",
    "# res_dataset = data.TensorDataset(res_data_X.reshape((-1, 1, 28, 28)), res_data_y)\n",
    "res_dataset = data.TensorDataset(res_data_X, res_data_y)\n"
   ]
  },
  {
   "cell_type": "code",
   "execution_count": 14,
   "metadata": {},
   "outputs": [
    {
     "name": "stdout",
     "output_type": "stream",
     "text": [
      "num_cores:  16\n",
      "num_cores:  16\n",
      "num_cores:  16\n",
      "torch.Size([256, 784])\n",
      "torch.Size([256])\n",
      "torch.Size([256, 784])\n",
      "torch.Size([256])\n",
      "torch.Size([256, 784])\n",
      "torch.Size([256])\n"
     ]
    }
   ],
   "source": [
    "batch_size = 256\n",
    "from dataset import get_num_cores\n",
    "\n",
    "origin_train_iter = data.DataLoader(mnist_trainset, batch_size, shuffle=True, num_workers=get_num_cores())\n",
    "res_train_iter = data.DataLoader(res_dataset, batch_size, shuffle=True, num_workers=get_num_cores())\n",
    "test_iter = data.DataLoader(mnist_testset, batch_size, shuffle=False, num_workers=get_num_cores())\n",
    "for X, y in origin_train_iter:\n",
    "    print(X.shape)\n",
    "    print(y.shape)\n",
    "    break\n",
    "\n",
    "for X, y in res_train_iter:\n",
    "    print(X.shape)\n",
    "    print(y.shape)\n",
    "    break\n",
    "\n",
    "for X, y in test_iter:\n",
    "    print(X.shape)\n",
    "    print(y.shape)\n",
    "    break\n"
   ]
  },
  {
   "cell_type": "code",
   "execution_count": 15,
   "metadata": {},
   "outputs": [
    {
     "data": {
      "text/plain": [
       "60000"
      ]
     },
     "execution_count": 15,
     "metadata": {},
     "output_type": "execute_result"
    }
   ],
   "source": [
    "len(mnist_trainset.dataset)"
   ]
  },
  {
   "cell_type": "code",
   "execution_count": 16,
   "metadata": {},
   "outputs": [],
   "source": [
    "# train and test\n",
    "lr, num_epochs = 1.1, 80\n",
    "device = utils.try_gpu()\n",
    "origin_lenet = network.LeNet\n",
    "res_lenet = network.LeNet\n",
    "\n"
   ]
  },
  {
   "cell_type": "code",
   "execution_count": 17,
   "metadata": {},
   "outputs": [],
   "source": [
    "def set_seed(seed: int):\n",
    "    torch.manual_seed(seed) # 为CPU设置随机种子\n",
    "    torch.cuda.manual_seed(seed) # 为当前GPU设置随机种子\n",
    "    torch.cuda.manual_seed_all(seed) # if you are using multi-GPU，为所有GPU设置随机种子\n",
    "    # np.random.seed(seed) # Numpy module.\n",
    "    # random.seed(seed) # Python random module.\n",
    "set_seed(42)"
   ]
  },
  {
   "cell_type": "code",
   "execution_count": 31,
   "metadata": {},
   "outputs": [
    {
     "data": {
      "text/plain": [
       "<ipykernel.zmqshell.ZMQInteractiveShell at 0x7f5948dce050>"
      ]
     },
     "execution_count": 31,
     "metadata": {},
     "output_type": "execute_result"
    },
    {
     "ename": "",
     "evalue": "",
     "output_type": "error",
     "traceback": [
      "\u001b[1;31mThe Kernel crashed while executing code in the the current cell or a previous cell. Please review the code in the cell(s) to identify a possible cause of the failure. Click <a href='https://aka.ms/vscodeJupyterKernelCrash'>here</a> for more info. View Jupyter <a href='command:jupyter.viewOutput'>log</a> for further details."
     ]
    }
   ],
   "source": []
  },
  {
   "cell_type": "code",
   "execution_count": 18,
   "metadata": {},
   "outputs": [
    {
     "data": {
      "image/png": "[encoded data removed]",
      "text/plain": [
       "<Figure size 350x250 with 1 Axes>"
      ]
     },
     "metadata": {},
     "output_type": "display_data"
    }
   ],
   "source": [
    "origin_lenet = network.train(origin_lenet, origin_train_iter, test_iter, num_epochs, lr, device)"
   ]
  },
  {
   "cell_type": "code",
   "execution_count": 19,
   "metadata": {},
   "outputs": [
    {
     "data": {
      "image/png": "[encoded data removed]",
      "text/plain": [
       "<Figure size 350x250 with 1 Axes>"
      ]
     },
     "metadata": {},
     "output_type": "display_data"
    }
   ],
   "source": [
    "res_lenet = network.train(res_lenet, res_train_iter, test_iter, num_epochs, lr, device)\n"
   ]
  },
  {
   "attachments": {},
   "cell_type": "markdown",
   "metadata": {},
   "source": [
    "#### 其他"
   ]
  },
  {
   "cell_type": "code",
   "execution_count": 8,
   "metadata": {},
   "outputs": [
    {
     "data": {
      "text/plain": [
       "array([0, 1, 2, 3, 4, 5, 6, 7, 8, 9])"
      ]
     },
     "execution_count": 8,
     "metadata": {},
     "output_type": "execute_result"
    }
   ],
   "source": []
  },
  {
   "cell_type": "code",
   "execution_count": 3,
   "metadata": {},
   "outputs": [
    {
     "name": "stdout",
     "output_type": "stream",
     "text": [
      "/home/hhw/geo_feature/hhw_code\n",
      "/home/hhw/geo_feature/hhw_code/dataset\n",
      "num_cores:  16\n",
      "num_cores:  16\n"
     ]
    }
   ],
   "source": []
  },
  {
   "cell_type": "code",
   "execution_count": 11,
   "metadata": {},
   "outputs": [
    {
     "data": {
      "text/plain": [
       "tensor([[0.0000, 2.0356]])"
      ]
     },
     "execution_count": 11,
     "metadata": {},
     "output_type": "execute_result"
    }
   ],
   "source": [
    "a1 = torch.tensor([[-1.0356,  2.0356]])\n",
    "a1.fill_diagonal_(fill_value=0)"
   ]
  },
  {
   "cell_type": "code",
   "execution_count": null,
   "metadata": {},
   "outputs": [],
   "source": []
  },
  {
   "cell_type": "code",
   "execution_count": 2,
   "metadata": {},
   "outputs": [
    {
     "name": "stdout",
     "output_type": "stream",
     "text": [
      "[[1 0 3]\n",
      " [4 5 6]]\n",
      "Indices of elements <4\n",
      "[[ 1 11  3]\n",
      " [ 4  5  6]]\n",
      "Elements which are <4\n"
     ]
    },
    {
     "ename": "IndexError",
     "evalue": "index 11 is out of bounds for axis 0 with size 2",
     "output_type": "error",
     "traceback": [
      "\u001b[0;31m---------------------------------------------------------------------------\u001b[0m",
      "\u001b[0;31mIndexError\u001b[0m                                Traceback (most recent call last)",
      "Cell \u001b[0;32mIn[2], line 17\u001b[0m\n\u001b[1;32m     14\u001b[0m \u001b[39mprint\u001b[39m(b)\n\u001b[1;32m     16\u001b[0m \u001b[39mprint\u001b[39m(\u001b[39m\"\u001b[39m\u001b[39mElements which are <4\u001b[39m\u001b[39m\"\u001b[39m)\n\u001b[0;32m---> 17\u001b[0m \u001b[39mprint\u001b[39m(a[b])\n",
      "\u001b[0;31mIndexError\u001b[0m: index 11 is out of bounds for axis 0 with size 2"
     ]
    }
   ],
   "source": [
    "# Python program explaining\n",
    "# where() function\n",
    "\n",
    "import numpy as np\n",
    "\n",
    "# a is an array of integers.\n",
    "a = np.array([[1, 0, 3], [4, 5, 6]])\n",
    "\n",
    "print(a)\n",
    "\n",
    "print ('Indices of elements <4')\n",
    "\n",
    "b = np.where(a == 0, 11, a)\n",
    "print(b)\n",
    "\n",
    "\n"
   ]
  },
  {
   "cell_type": "code",
   "execution_count": 43,
   "metadata": {},
   "outputs": [
    {
     "name": "stdout",
     "output_type": "stream",
     "text": [
      "torch.Size([256, 784])\n",
      "torch.Size([256])\n",
      "torch.Size([256, 784])\n",
      "torch.Size([256])\n",
      "torch.Size([256, 784])\n",
      "torch.Size([256])\n",
      "torch.Size([232, 784])\n",
      "torch.Size([232])\n"
     ]
    }
   ],
   "source": [
    "\n",
    "from torch import nn\n",
    "class Reshape(nn.Module):\n",
    "    def __init__(self, *args):\n",
    "        super(Reshape, self).__init__()\n",
    "        self.shape = args\n",
    "\n",
    "    def forward(self, x):\n",
    "        # print(self.shape)\n",
    "        return x.reshape(self.shape)\n",
    "\n",
    "net = nn.Sequential(\n",
    "    Reshape(-1, 1, 28, 28),\n",
    "    nn.Conv2d(1, 6, kernel_size=5, padding=2), nn.Sigmoid()\n",
    ")\n",
    "X = torch.tensor([])\n",
    "for X, y in origin_train_iter:\n",
    "    print(X.shape)\n",
    "    print(y.shape)"
   ]
  },
  {
   "cell_type": "code",
   "execution_count": 44,
   "metadata": {},
   "outputs": [
    {
     "name": "stdout",
     "output_type": "stream",
     "text": [
      "torch.Size([232, 784])\n",
      "torch.Size([232, 6, 28, 28])\n"
     ]
    }
   ],
   "source": [
    "a = X.reshape((-1, 1, 28, 28))\n",
    "a.shape\n",
    "print(X.shape)\n",
    "b = net(X)\n",
    "print(b.shape)"
   ]
  }
 ],
 "metadata": {
  "kernelspec": {
   "display_name": "ego",
   "language": "python",
   "name": "python3"
  },
  "language_info": {
   "codemirror_mode": {
    "name": "ipython",
    "version": 3
   },
   "file_extension": ".py",
   "mimetype": "text/x-python",
   "name": "python",
   "nbconvert_exporter": "python",
   "pygments_lexer": "ipython3",
   "version": "3.11.4"
  },
  "orig_nbformat": 4
 },
 "nbformat": 4,
 "nbformat_minor": 2
}
