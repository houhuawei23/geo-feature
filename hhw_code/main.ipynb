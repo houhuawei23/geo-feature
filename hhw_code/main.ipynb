{
 "cells": [
  {
   "attachments": {},
   "cell_type": "markdown",
   "metadata": {},
   "source": [
    "### 数据集"
   ]
  },
  {
   "cell_type": "code",
   "execution_count": 57,
   "metadata": {},
   "outputs": [
    {
     "name": "stdout",
     "output_type": "stream",
     "text": [
      "2.0.1+cu117\n",
      "NVIDIA GeForce RTX 3050 Laptop GPU\n"
     ]
    }
   ],
   "source": [
    "import os\n",
    "\n",
    "import numpy as np\n",
    "\n",
    "import torch\n",
    "import torchvision\n",
    "import torchvision.transforms as transforms\n",
    "\n",
    "from geo import get_classified_dataset, get_dataset_geo_feature\n",
    "from app_utils import dataset_compress\n",
    "import utils\n",
    "import network\n",
    "\n",
    "\n",
    "print(torch.__version__)\n",
    "try:\n",
    "    num_gpus = torch.cuda.device_count()\n",
    "    current_gpu_index = torch.cuda.current_device()\n",
    "    gpu_name = torch.cuda.get_device_name(current_gpu_index)\n",
    "    print(gpu_name)\n",
    "except:\n",
    "    print('no gpu')"
   ]
  },
  {
   "cell_type": "code",
   "execution_count": 58,
   "metadata": {},
   "outputs": [
    {
     "name": "stdout",
     "output_type": "stream",
     "text": [
      "/home/hhw/geo/hhw_code/../dataset /home/hhw/geo/hhw_code/results\n",
      "Set seed 42\n"
     ]
    }
   ],
   "source": [
    "cwd = os.getcwd()\n",
    "dataset_dir = os.path.join(cwd, '..', 'dataset')\n",
    "results_dir = os.path.join(cwd, 'results')\n",
    "print(dataset_dir, results_dir)\n",
    "utils.set_seed(42)"
   ]
  },
  {
   "attachments": {},
   "cell_type": "markdown",
   "metadata": {},
   "source": [
    "#### 加载数据集"
   ]
  },
  {
   "cell_type": "code",
   "execution_count": 59,
   "metadata": {},
   "outputs": [],
   "source": [
    "dataset_name = 'mnist'\n",
    "trans = transforms.Compose([\n",
    "    transforms.ToTensor()\n",
    "    ])\n",
    "\n",
    "mnist_trainset = torchvision.datasets.MNIST(\n",
    "    root=dataset_dir, train = True, download = False, transform = trans)\n",
    "\n",
    "mnist_testset = torchvision.datasets.MNIST(\n",
    "    root = dataset_dir, train = False, download = False, transform = trans)\n"
   ]
  },
  {
   "attachments": {},
   "cell_type": "markdown",
   "metadata": {},
   "source": [
    "#### 截取部分数据做测试"
   ]
  },
  {
   "cell_type": "code",
   "execution_count": 60,
   "metadata": {},
   "outputs": [],
   "source": [
    "train_size = 5000\n",
    "k = 16"
   ]
  },
  {
   "cell_type": "code",
   "execution_count": 61,
   "metadata": {},
   "outputs": [],
   "source": [
    "origin_train_size = 60000"
   ]
  },
  {
   "cell_type": "code",
   "execution_count": 62,
   "metadata": {},
   "outputs": [],
   "source": [
    "sample_index = np.random.choice(range(origin_train_size), train_size, replace=False)\n",
    "\n",
    "mnist_data_arr = mnist_trainset.data.numpy()[sample_index]\n",
    "mnist_label_arr = mnist_trainset.targets.numpy()[sample_index]\n",
    "\n",
    "mnist_data_arr = mnist_data_arr.reshape(train_size, -1)\n",
    "\n",
    "# 将数据分类存放\n",
    "classified_dataset = get_classified_dataset(mnist_data_arr, mnist_label_arr)"
   ]
  },
  {
   "cell_type": "code",
   "execution_count": 63,
   "metadata": {},
   "outputs": [],
   "source": [
    "# 获取训练集 几何特征\n",
    "each_class_feature, egr_scope, uhop_scope = get_dataset_geo_feature(classified_dataset, k=k)"
   ]
  },
  {
   "cell_type": "code",
   "execution_count": 64,
   "metadata": {},
   "outputs": [],
   "source": [
    "# save to file\n",
    "# import pickle\n",
    "# geo_feature_path = os.path.join(\n",
    "#     results_dir, f\"geo_{dataset_name}_trsz{train_size}_k{k}.pkl\"\n",
    "# )\n",
    "# with open(geo_feature_path, \"wb\") as f:\n",
    "#     pickle.dump(each_class_feature, f)\n",
    "#     pickle.dump(egr_scope, f)\n",
    "#     pickle.dump(uhop_scope, f)\n",
    "# # read from file\n",
    "# with open(geo_feature_path, 'rb') as f:\n",
    "#     each_class_feature = pickle.load(f)\n",
    "#     egr_scope = pickle.load(f)\n",
    "#     uhop_scope = pickle.load(f)"
   ]
  },
  {
   "attachments": {},
   "cell_type": "markdown",
   "metadata": {},
   "source": [
    "#### 数据压缩/增强"
   ]
  },
  {
   "cell_type": "code",
   "execution_count": 65,
   "metadata": {},
   "outputs": [
    {
     "data": {
      "text/plain": [
       "(0.7517673953804246, 0.0006649149782298373)"
      ]
     },
     "execution_count": 65,
     "metadata": {},
     "output_type": "execute_result"
    }
   ],
   "source": [
    "# 获取 egr, uhop 阈值\n",
    "# egr_threshold = (egr_scope[0] + egr_scope[1]) / 2.0\n",
    "# uhop_threshold = (uhop_scope[0] + uhop_scope[1]) / 2.0\n",
    "\n",
    "rate = 0.3\n",
    "egr_threshold = egr_scope[1] - (egr_scope[1] - egr_scope[0]) * rate\n",
    "uhop_threshold = uhop_scope[1] - (uhop_scope[1] - uhop_scope[0]) * rate\n",
    "egr_threshold, uhop_threshold"
   ]
  },
  {
   "cell_type": "code",
   "execution_count": 66,
   "metadata": {},
   "outputs": [],
   "source": [
    "res_data_dict, removed_data_dict = dataset_compress(classified_dataset = classified_dataset,\n",
    "                                                    each_class_feature = each_class_feature,\n",
    "                                                    rate = rate, \n",
    "                                                    egr_threshold = egr_threshold, \n",
    "                                                    uhop_threshold = uhop_threshold)"
   ]
  },
  {
   "attachments": {},
   "cell_type": "markdown",
   "metadata": {},
   "source": [
    "#### 测试数据压缩/增强的效果"
   ]
  },
  {
   "cell_type": "code",
   "execution_count": 67,
   "metadata": {},
   "outputs": [],
   "source": [
    "import torch.utils.data as torch_data\n",
    "res_train_X = np.concatenate([res_data_dict[label] for label in res_data_dict.keys()]).reshape(-1, 1, 28, 28).astype(np.float32)\n",
    "res_train_y = np.concatenate([np.ones(res_data_dict[label].shape[0]) * label for label in res_data_dict.keys()]).astype(np.int64)\n",
    "res_train_dataset = torch_data.TensorDataset(torch.from_numpy(res_train_X), torch.from_numpy(res_train_y))\n",
    "\n",
    "batch_size = 64\n",
    "\n",
    "res_train_iter = torch_data.DataLoader(res_train_dataset, batch_size=batch_size, shuffle=True)\n",
    "mnist_test_iter = torch_data.DataLoader(mnist_testset, batch_size=batch_size, shuffle=False)\n"
   ]
  },
  {
   "cell_type": "code",
   "execution_count": 68,
   "metadata": {},
   "outputs": [],
   "source": [
    "res_size = int((1 - rate) * train_size)\n",
    "random_idxs = np.random.choice(train_size, res_size, replace=False)\n",
    "bench_data_arr = mnist_data_arr[random_idxs].reshape(-1, 1, 28, 28).astype(np.float32)\n",
    "bench_label_arr = mnist_label_arr[random_idxs].astype(np.int64)\n",
    "\n",
    "bench_train_dataset = torch_data.TensorDataset(torch.from_numpy(bench_data_arr), torch.from_numpy(bench_label_arr))\n",
    "bench_train_iter = torch_data.DataLoader(bench_train_dataset, batch_size=batch_size, shuffle=True)\n"
   ]
  },
  {
   "cell_type": "code",
   "execution_count": 69,
   "metadata": {},
   "outputs": [],
   "source": [
    "mnist_train_dataset = torch_data.TensorDataset(torch.from_numpy(mnist_data_arr.reshape(-1, 1, 28, 28).astype(np.float32)), torch.from_numpy(mnist_label_arr.astype(np.int64)))\n",
    "mnist_train_iter = torch_data.DataLoader(mnist_train_dataset, batch_size=batch_size, shuffle=True)"
   ]
  },
  {
   "cell_type": "code",
   "execution_count": 70,
   "metadata": {},
   "outputs": [
    {
     "data": {
      "text/plain": [
       "(3500, 1, 28, 28)"
      ]
     },
     "execution_count": 70,
     "metadata": {},
     "output_type": "execute_result"
    }
   ],
   "source": [
    "# for X, y in res_train_iter:\n",
    "#     print(\"res_iter\", X.shape, y.shape)\n",
    "#     print(f\"type: X: {X.dtype}, y: {y.dtype}\")\n",
    "#     break\n",
    "# for X, y in mnist_test_iter:\n",
    "#     print(\"test_iter\", X.shape, y.shape)\n",
    "#     print(f\"type: X: {X.dtype}, y: {y.dtype}\")\n",
    "#     break\n",
    "bench_data_arr.shape"
   ]
  },
  {
   "cell_type": "code",
   "execution_count": 71,
   "metadata": {},
   "outputs": [
    {
     "data": {
      "text/plain": [
       "Sequential(\n",
       "  (0): Conv2d(1, 6, kernel_size=(5, 5), stride=(1, 1), padding=(2, 2))\n",
       "  (1): Sigmoid()\n",
       "  (2): MaxPool2d(kernel_size=2, stride=2, padding=0, dilation=1, ceil_mode=False)\n",
       "  (3): Conv2d(6, 16, kernel_size=(5, 5), stride=(1, 1))\n",
       "  (4): Sigmoid()\n",
       "  (5): MaxPool2d(kernel_size=2, stride=2, padding=0, dilation=1, ceil_mode=False)\n",
       "  (6): Flatten(start_dim=1, end_dim=-1)\n",
       "  (7): Linear(in_features=400, out_features=120, bias=True)\n",
       "  (8): Sigmoid()\n",
       "  (9): Linear(in_features=120, out_features=84, bias=True)\n",
       "  (10): Sigmoid()\n",
       "  (11): Linear(in_features=84, out_features=10, bias=True)\n",
       ")"
      ]
     },
     "execution_count": 71,
     "metadata": {},
     "output_type": "execute_result"
    },
    {
     "data": {
      "image/png": "[encoded data removed]",
      "text/plain": [
       "<Figure size 500x300 with 1 Axes>"
      ]
     },
     "metadata": {},
     "output_type": "display_data"
    }
   ],
   "source": [
    "from network import LeNet, train\n",
    "lr, num_epochs = 0.9, 20\n",
    "\n",
    "# 在小数据上压缩后训练 (train_size * (1-rate))\n",
    "net = LeNet\n",
    "train(net, res_train_iter, mnist_test_iter, num_epochs, lr, device = utils.try_gpu())\n"
   ]
  },
  {
   "cell_type": "code",
   "execution_count": 72,
   "metadata": {},
   "outputs": [
    {
     "data": {
      "text/plain": [
       "Sequential(\n",
       "  (0): Conv2d(1, 6, kernel_size=(5, 5), stride=(1, 1), padding=(2, 2))\n",
       "  (1): Sigmoid()\n",
       "  (2): MaxPool2d(kernel_size=2, stride=2, padding=0, dilation=1, ceil_mode=False)\n",
       "  (3): Conv2d(6, 16, kernel_size=(5, 5), stride=(1, 1))\n",
       "  (4): Sigmoid()\n",
       "  (5): MaxPool2d(kernel_size=2, stride=2, padding=0, dilation=1, ceil_mode=False)\n",
       "  (6): Flatten(start_dim=1, end_dim=-1)\n",
       "  (7): Linear(in_features=400, out_features=120, bias=True)\n",
       "  (8): Sigmoid()\n",
       "  (9): Linear(in_features=120, out_features=84, bias=True)\n",
       "  (10): Sigmoid()\n",
       "  (11): Linear(in_features=84, out_features=10, bias=True)\n",
       ")"
      ]
     },
     "execution_count": 72,
     "metadata": {},
     "output_type": "execute_result"
    },
    {
     "data": {
      "image/png": "[encoded data removed]",
      "text/plain": [
       "<Figure size 500x300 with 1 Axes>"
      ]
     },
     "metadata": {},
     "output_type": "display_data"
    }
   ],
   "source": [
    "# 在小数据集上随机选取相同数量的样本，与压缩算法的结果进行对比 (train_size * (1-rate))\n",
    "bench_net = LeNet\n",
    "train(bench_net, bench_train_iter, mnist_test_iter, num_epochs, lr, device=utils.try_gpu(0))"
   ]
  },
  {
   "cell_type": "code",
   "execution_count": 73,
   "metadata": {},
   "outputs": [
    {
     "data": {
      "text/plain": [
       "Sequential(\n",
       "  (0): Conv2d(1, 6, kernel_size=(5, 5), stride=(1, 1), padding=(2, 2))\n",
       "  (1): Sigmoid()\n",
       "  (2): MaxPool2d(kernel_size=2, stride=2, padding=0, dilation=1, ceil_mode=False)\n",
       "  (3): Conv2d(6, 16, kernel_size=(5, 5), stride=(1, 1))\n",
       "  (4): Sigmoid()\n",
       "  (5): MaxPool2d(kernel_size=2, stride=2, padding=0, dilation=1, ceil_mode=False)\n",
       "  (6): Flatten(start_dim=1, end_dim=-1)\n",
       "  (7): Linear(in_features=400, out_features=120, bias=True)\n",
       "  (8): Sigmoid()\n",
       "  (9): Linear(in_features=120, out_features=84, bias=True)\n",
       "  (10): Sigmoid()\n",
       "  (11): Linear(in_features=84, out_features=10, bias=True)\n",
       ")"
      ]
     },
     "execution_count": 73,
     "metadata": {},
     "output_type": "execute_result"
    },
    {
     "data": {
      "image/png": "[encoded data removed]",
      "text/plain": [
       "<Figure size 500x300 with 1 Axes>"
      ]
     },
     "metadata": {},
     "output_type": "display_data"
    }
   ],
   "source": [
    "# 在小数据集上直接训练：train_size\n",
    "mnist_net = LeNet\n",
    "train(mnist_net, mnist_train_iter, mnist_test_iter, num_epochs, lr, device=utils.try_gpu(0))"
   ]
  },
  {
   "cell_type": "code",
   "execution_count": 74,
   "metadata": {},
   "outputs": [],
   "source": [
    "def set_seed(seed: int):\n",
    "    torch.manual_seed(seed) # 为CPU设置随机种子\n",
    "    torch.cuda.manual_seed(seed) # 为当前GPU设置随机种子\n",
    "    torch.cuda.manual_seed_all(seed) # if you are using multi-GPU，为所有GPU设置随机种子\n",
    "    # np.random.seed(seed) # Numpy module.\n",
    "    # random.seed(seed) # Python random module.\n",
    "set_seed(42)"
   ]
  },
  {
   "cell_type": "code",
   "execution_count": null,
   "metadata": {},
   "outputs": [],
   "source": []
  },
  {
   "cell_type": "code",
   "execution_count": 75,
   "metadata": {},
   "outputs": [
    {
     "ename": "NameError",
     "evalue": "name 'origin_lenet' is not defined",
     "output_type": "error",
     "traceback": [
      "\u001b[0;31m---------------------------------------------------------------------------\u001b[0m",
      "\u001b[0;31mNameError\u001b[0m                                 Traceback (most recent call last)",
      "Cell \u001b[0;32mIn[75], line 1\u001b[0m\n\u001b[0;32m----> 1\u001b[0m origin_lenet \u001b[39m=\u001b[39m network\u001b[39m.\u001b[39mtrain(origin_lenet, origin_train_iter, test_iter, num_epochs, lr, device)\n",
      "\u001b[0;31mNameError\u001b[0m: name 'origin_lenet' is not defined"
     ]
    }
   ],
   "source": [
    "origin_lenet = network.train(origin_lenet, origin_train_iter, test_iter, num_epochs, lr, device)"
   ]
  },
  {
   "cell_type": "code",
   "execution_count": null,
   "metadata": {},
   "outputs": [],
   "source": [
    "res_lenet = network.train(res_lenet, res_train_iter, test_iter, num_epochs, lr, device)\n"
   ]
  },
  {
   "attachments": {},
   "cell_type": "markdown",
   "metadata": {},
   "source": [
    "#### 其他"
   ]
  },
  {
   "cell_type": "code",
   "execution_count": null,
   "metadata": {},
   "outputs": [],
   "source": []
  },
  {
   "cell_type": "code",
   "execution_count": null,
   "metadata": {},
   "outputs": [],
   "source": []
  },
  {
   "cell_type": "code",
   "execution_count": null,
   "metadata": {},
   "outputs": [],
   "source": [
    "a1 = torch.tensor([[-1.0356,  2.0356]])\n",
    "a1.fill_diagonal_(fill_value=0)"
   ]
  },
  {
   "cell_type": "code",
   "execution_count": null,
   "metadata": {},
   "outputs": [],
   "source": []
  },
  {
   "cell_type": "code",
   "execution_count": null,
   "metadata": {},
   "outputs": [],
   "source": [
    "# Python program explaining\n",
    "# where() function\n",
    "\n",
    "import numpy as np\n",
    "\n",
    "# a is an array of integers.\n",
    "a = np.array([[1, 0, 3], [4, 5, 6]])\n",
    "\n",
    "print(a)\n",
    "\n",
    "print ('Indices of elements <4')\n",
    "\n",
    "b = np.where(a == 0, 11, a)\n",
    "print(b)\n",
    "\n",
    "\n"
   ]
  },
  {
   "cell_type": "code",
   "execution_count": null,
   "metadata": {},
   "outputs": [],
   "source": [
    "\n",
    "from torch import nn\n",
    "class Reshape(nn.Module):\n",
    "    def __init__(self, *args):\n",
    "        super(Reshape, self).__init__()\n",
    "        self.shape = args\n",
    "\n",
    "    def forward(self, x):\n",
    "        # print(self.shape)\n",
    "        return x.reshape(self.shape)\n",
    "\n",
    "net = nn.Sequential(\n",
    "    Reshape(-1, 1, 28, 28),\n",
    "    nn.Conv2d(1, 6, kernel_size=5, padding=2), nn.Sigmoid()\n",
    ")\n",
    "X = torch.tensor([])\n",
    "for X, y in origin_train_iter:\n",
    "    print(X.shape)\n",
    "    print(y.shape)"
   ]
  },
  {
   "cell_type": "code",
   "execution_count": null,
   "metadata": {},
   "outputs": [],
   "source": [
    "a = X.reshape((-1, 1, 28, 28))\n",
    "a.shape\n",
    "print(X.shape)\n",
    "b = net(X)\n",
    "print(b.shape)"
   ]
  }
 ],
 "metadata": {
  "kernelspec": {
   "display_name": "ego",
   "language": "python",
   "name": "python3"
  },
  "language_info": {
   "codemirror_mode": {
    "name": "ipython",
    "version": 3
   },
   "file_extension": ".py",
   "mimetype": "text/x-python",
   "name": "python",
   "nbconvert_exporter": "python",
   "pygments_lexer": "ipython3",
   "version": "3.11.4"
  },
  "orig_nbformat": 4
 },
 "nbformat": 4,
 "nbformat_minor": 2
}
